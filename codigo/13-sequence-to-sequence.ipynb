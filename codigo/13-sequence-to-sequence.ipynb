{
 "cells": [
  {
   "cell_type": "code",
   "execution_count": 1,
   "id": "precise-search",
   "metadata": {
    "ExecuteTime": {
     "end_time": "2021-05-03T22:57:46.260346Z",
     "start_time": "2021-05-03T22:57:43.435546Z"
    },
    "slideshow": {
     "slide_type": "skip"
    }
   },
   "outputs": [],
   "source": [
    "import os\n",
    "import tensorflow as tf\n",
    "from d2l import tensorflow as d2l"
   ]
  },
  {
   "cell_type": "markdown",
   "id": "combined-tissue",
   "metadata": {
    "slideshow": {
     "slide_type": "slide"
    }
   },
   "source": [
    "# Sequence to sequence model"
   ]
  },
  {
   "cell_type": "code",
   "execution_count": 2,
   "id": "liquid-depth",
   "metadata": {
    "ExecuteTime": {
     "end_time": "2021-05-03T22:57:46.265929Z",
     "start_time": "2021-05-03T22:57:46.262760Z"
    },
    "slideshow": {
     "slide_type": "subslide"
    }
   },
   "outputs": [],
   "source": [
    "import numpy as np\n",
    "from tensorflow import keras"
   ]
  },
  {
   "cell_type": "code",
   "execution_count": 3,
   "id": "grave-healthcare",
   "metadata": {
    "ExecuteTime": {
     "end_time": "2021-05-03T22:57:48.869360Z",
     "start_time": "2021-05-03T22:57:46.270371Z"
    },
    "slideshow": {
     "slide_type": "subslide"
    }
   },
   "outputs": [
    {
     "data": {
      "text/plain": [
       "['Archive:  spa-eng.zip',\n",
       " 'replace _about.txt? [y]es, [n]o, [A]ll, [N]one, [r]ename:  NULL',\n",
       " '(EOF or read error, treating as \"[N]one\" ...)']"
      ]
     },
     "execution_count": 3,
     "metadata": {},
     "output_type": "execute_result"
    }
   ],
   "source": [
    "!!curl -O http://www.manythings.org/anki/spa-eng.zip\n",
    "!!unzip spa-eng.zip  "
   ]
  },
  {
   "cell_type": "markdown",
   "id": "ahead-poster",
   "metadata": {
    "slideshow": {
     "slide_type": "slide"
    }
   },
   "source": [
    "## Preparing the dataset"
   ]
  },
  {
   "cell_type": "code",
   "execution_count": 4,
   "id": "bored-teens",
   "metadata": {
    "ExecuteTime": {
     "end_time": "2021-05-03T22:57:48.876541Z",
     "start_time": "2021-05-03T22:57:48.873285Z"
    },
    "slideshow": {
     "slide_type": "subslide"
    }
   },
   "outputs": [],
   "source": [
    "batch_size = 64  # Batch size for training.\n",
    "epochs = 100  # Number of epochs to train for.\n",
    "latent_dim = 256  # Latent dimensionality of the encoding space.\n",
    "num_samples = 10000  # Number of samples to train on.\n",
    "# Path to the data txt file on disk.\n",
    "data_path = \"spa.txt\""
   ]
  },
  {
   "cell_type": "code",
   "execution_count": 5,
   "id": "magnetic-might",
   "metadata": {
    "ExecuteTime": {
     "end_time": "2021-05-03T22:57:49.069997Z",
     "start_time": "2021-05-03T22:57:48.879162Z"
    },
    "slideshow": {
     "slide_type": "subslide"
    }
   },
   "outputs": [],
   "source": [
    "# Vectorize the data.\n",
    "input_texts = []\n",
    "target_texts = []\n",
    "input_characters = set()\n",
    "target_characters = set()\n",
    "\n",
    "with open(data_path, \"r\", encoding=\"utf-8\") as f:\n",
    "    lines = f.read().split(\"\\n\")\n",
    "    \n",
    "for line in lines[: min(num_samples, len(lines) - 1)]:\n",
    "    input_text, target_text, _ = line.split(\"\\t\")\n",
    "    # We use \"tab\" as the \"start sequence\" character\n",
    "    # for the targets, and \"\\n\" as \"end sequence\" character.\n",
    "    target_text = \"\\t\" + target_text + \"\\n\"\n",
    "    input_texts.append(input_text)\n",
    "    target_texts.append(target_text)\n",
    "    for char in input_text:\n",
    "        if char not in input_characters:\n",
    "            input_characters.add(char)\n",
    "    for char in target_text:\n",
    "        if char not in target_characters:\n",
    "            target_characters.add(char)"
   ]
  },
  {
   "cell_type": "code",
   "execution_count": 6,
   "id": "significant-douglas",
   "metadata": {
    "ExecuteTime": {
     "end_time": "2021-05-03T22:57:49.079292Z",
     "start_time": "2021-05-03T22:57:49.072012Z"
    },
    "slideshow": {
     "slide_type": "subslide"
    }
   },
   "outputs": [
    {
     "name": "stdout",
     "output_type": "stream",
     "text": [
      "Number of samples: 10000\n",
      "Number of unique input tokens: 69\n",
      "Number of unique output tokens: 84\n",
      "Max sequence length for inputs: 16\n",
      "Max sequence length for outputs: 78\n"
     ]
    }
   ],
   "source": [
    "input_characters = sorted(list(input_characters))\n",
    "target_characters = sorted(list(target_characters))\n",
    "num_encoder_tokens = len(input_characters)\n",
    "num_decoder_tokens = len(target_characters)\n",
    "max_encoder_seq_length = max([len(txt) for txt in input_texts])\n",
    "max_decoder_seq_length = max([len(txt) for txt in target_texts])\n",
    "\n",
    "print(\"Number of samples:\", len(input_texts))\n",
    "print(\"Number of unique input tokens:\", num_encoder_tokens)\n",
    "print(\"Number of unique output tokens:\", num_decoder_tokens)\n",
    "print(\"Max sequence length for inputs:\", max_encoder_seq_length)\n",
    "print(\"Max sequence length for outputs:\", max_decoder_seq_length)"
   ]
  },
  {
   "cell_type": "code",
   "execution_count": 7,
   "id": "wrong-couple",
   "metadata": {
    "ExecuteTime": {
     "end_time": "2021-05-03T22:57:49.092665Z",
     "start_time": "2021-05-03T22:57:49.081887Z"
    },
    "slideshow": {
     "slide_type": "subslide"
    }
   },
   "outputs": [],
   "source": [
    "input_token_index = dict([(char, i) for i, char in enumerate(input_characters)])\n",
    "target_token_index = dict([(char, i) for i, char in enumerate(target_characters)])\n",
    "\n",
    "encoder_input_data = np.zeros(\n",
    "    (len(input_texts), max_encoder_seq_length, num_encoder_tokens), dtype=\"float32\"\n",
    ")\n",
    "decoder_input_data = np.zeros(\n",
    "    (len(input_texts), max_decoder_seq_length, num_decoder_tokens), dtype=\"float32\"\n",
    ")\n",
    "decoder_target_data = np.zeros(\n",
    "    (len(input_texts), max_decoder_seq_length, num_decoder_tokens), dtype=\"float32\"\n",
    ")"
   ]
  },
  {
   "cell_type": "code",
   "execution_count": 8,
   "id": "pretty-column",
   "metadata": {
    "ExecuteTime": {
     "end_time": "2021-05-03T22:57:49.652309Z",
     "start_time": "2021-05-03T22:57:49.098080Z"
    },
    "slideshow": {
     "slide_type": "subslide"
    }
   },
   "outputs": [],
   "source": [
    "for i, (input_text, target_text) in enumerate(zip(input_texts, target_texts)):\n",
    "    for t, char in enumerate(input_text):\n",
    "        encoder_input_data[i, t, input_token_index[char]] = 1.0\n",
    "    encoder_input_data[i, t + 1 :, input_token_index[\" \"]] = 1.0\n",
    "    for t, char in enumerate(target_text):\n",
    "        # decoder_target_data is ahead of decoder_input_data by one timestep\n",
    "        decoder_input_data[i, t, target_token_index[char]] = 1.0\n",
    "        if t > 0:\n",
    "            # decoder_target_data will be ahead by one timestep\n",
    "            # and will not include the start character.\n",
    "            decoder_target_data[i, t - 1, target_token_index[char]] = 1.0\n",
    "    decoder_input_data[i, t + 1 :, target_token_index[\" \"]] = 1.0\n",
    "    decoder_target_data[i, t:, target_token_index[\" \"]] = 1.0\n"
   ]
  },
  {
   "cell_type": "markdown",
   "id": "stunning-cornell",
   "metadata": {
    "slideshow": {
     "slide_type": "slide"
    }
   },
   "source": [
    "## Building the Encoder-Decoder"
   ]
  },
  {
   "cell_type": "code",
   "execution_count": 9,
   "id": "treated-christmas",
   "metadata": {
    "ExecuteTime": {
     "end_time": "2021-05-03T22:57:49.983422Z",
     "start_time": "2021-05-03T22:57:49.655174Z"
    },
    "slideshow": {
     "slide_type": "subslide"
    }
   },
   "outputs": [],
   "source": [
    "# Define an input sequence and process it.\n",
    "encoder_inputs = keras.Input(shape=(None, num_encoder_tokens))\n",
    "encoder = keras.layers.LSTM(latent_dim, return_state=True)\n",
    "encoder_outputs, state_h, state_c = encoder(encoder_inputs)\n",
    "\n",
    "# We discard `encoder_outputs` and only keep the states.\n",
    "encoder_states = [state_h, state_c]"
   ]
  },
  {
   "cell_type": "code",
   "execution_count": 10,
   "id": "behavioral-treasury",
   "metadata": {
    "ExecuteTime": {
     "end_time": "2021-05-03T22:57:50.255945Z",
     "start_time": "2021-05-03T22:57:49.985631Z"
    },
    "slideshow": {
     "slide_type": "subslide"
    }
   },
   "outputs": [],
   "source": [
    "# Set up the decoder, using `encoder_states` as initial state.\n",
    "decoder_inputs = keras.Input(shape=(None, num_decoder_tokens))\n",
    "\n",
    "# We set up our decoder to return full output sequences,\n",
    "# and to return internal states as well. We don't use the\n",
    "# return states in the training model, but we will use them in inference.\n",
    "decoder_lstm = keras.layers.LSTM(latent_dim, return_sequences=True, return_state=True)\n",
    "decoder_outputs, _, _ = decoder_lstm(decoder_inputs, initial_state=encoder_states)\n",
    "decoder_dense = keras.layers.Dense(num_decoder_tokens, activation=\"softmax\")\n",
    "decoder_outputs = decoder_dense(decoder_outputs)"
   ]
  },
  {
   "cell_type": "code",
   "execution_count": 11,
   "id": "concerned-distance",
   "metadata": {
    "ExecuteTime": {
     "end_time": "2021-05-03T22:57:50.266209Z",
     "start_time": "2021-05-03T22:57:50.258247Z"
    },
    "slideshow": {
     "slide_type": "subslide"
    }
   },
   "outputs": [],
   "source": [
    "# Define the model that will turn\n",
    "# `encoder_input_data` & `decoder_input_data` into `decoder_target_data`\n",
    "model = keras.Model([encoder_inputs, decoder_inputs], decoder_outputs)\n"
   ]
  },
  {
   "cell_type": "markdown",
   "id": "connected-friend",
   "metadata": {
    "slideshow": {
     "slide_type": "slide"
    }
   },
   "source": [
    "## Training"
   ]
  },
  {
   "cell_type": "code",
   "execution_count": 12,
   "id": "nasty-marble",
   "metadata": {
    "ExecuteTime": {
     "end_time": "2021-05-03T22:57:50.285328Z",
     "start_time": "2021-05-03T22:57:50.268718Z"
    },
    "slideshow": {
     "slide_type": "subslide"
    }
   },
   "outputs": [],
   "source": [
    "model.compile(\n",
    "    optimizer=\"rmsprop\", loss=\"categorical_crossentropy\", metrics=[\"accuracy\"]\n",
    ")"
   ]
  },
  {
   "cell_type": "code",
   "execution_count": 13,
   "id": "swedish-contents",
   "metadata": {
    "ExecuteTime": {
     "end_time": "2021-05-03T23:44:46.633595Z",
     "start_time": "2021-05-03T22:57:50.287789Z"
    },
    "scrolled": true,
    "slideshow": {
     "slide_type": "subslide"
    }
   },
   "outputs": [
    {
     "name": "stdout",
     "output_type": "stream",
     "text": [
      "Epoch 1/100\n",
      "125/125 [==============================] - 29s 208ms/step - loss: 1.1221 - accuracy: 0.7808 - val_loss: 0.7266 - val_accuracy: 0.8007\n",
      "Epoch 2/100\n",
      "125/125 [==============================] - 24s 194ms/step - loss: 0.6127 - accuracy: 0.8339 - val_loss: 0.5997 - val_accuracy: 0.8323\n",
      "Epoch 3/100\n",
      "125/125 [==============================] - 26s 210ms/step - loss: 0.5057 - accuracy: 0.8615 - val_loss: 0.5179 - val_accuracy: 0.8500\n",
      "Epoch 4/100\n",
      "125/125 [==============================] - 29s 233ms/step - loss: 0.4350 - accuracy: 0.8742 - val_loss: 0.4810 - val_accuracy: 0.8563\n",
      "Epoch 5/100\n",
      "125/125 [==============================] - 35s 279ms/step - loss: 0.3937 - accuracy: 0.8823 - val_loss: 0.4537 - val_accuracy: 0.8625\n",
      "Epoch 6/100\n",
      "125/125 [==============================] - 31s 244ms/step - loss: 0.3662 - accuracy: 0.8900 - val_loss: 0.4356 - val_accuracy: 0.8677\n",
      "Epoch 7/100\n",
      "125/125 [==============================] - 37s 294ms/step - loss: 0.3472 - accuracy: 0.8950 - val_loss: 0.4207 - val_accuracy: 0.8719\n",
      "Epoch 8/100\n",
      "125/125 [==============================] - 34s 274ms/step - loss: 0.3306 - accuracy: 0.9000 - val_loss: 0.4030 - val_accuracy: 0.8780\n",
      "Epoch 9/100\n",
      "125/125 [==============================] - 32s 256ms/step - loss: 0.3125 - accuracy: 0.9057 - val_loss: 0.3904 - val_accuracy: 0.8827\n",
      "Epoch 10/100\n",
      "125/125 [==============================] - 32s 257ms/step - loss: 0.2985 - accuracy: 0.9099 - val_loss: 0.3825 - val_accuracy: 0.8847\n",
      "Epoch 11/100\n",
      "125/125 [==============================] - 32s 254ms/step - loss: 0.2871 - accuracy: 0.9133 - val_loss: 0.3749 - val_accuracy: 0.8874\n",
      "Epoch 12/100\n",
      "125/125 [==============================] - 31s 246ms/step - loss: 0.2738 - accuracy: 0.9175 - val_loss: 0.3699 - val_accuracy: 0.8894\n",
      "Epoch 13/100\n",
      "125/125 [==============================] - 30s 241ms/step - loss: 0.2649 - accuracy: 0.9204 - val_loss: 0.3608 - val_accuracy: 0.8916\n",
      "Epoch 14/100\n",
      "125/125 [==============================] - 29s 233ms/step - loss: 0.2517 - accuracy: 0.9238 - val_loss: 0.3574 - val_accuracy: 0.8934\n",
      "Epoch 15/100\n",
      "125/125 [==============================] - 30s 242ms/step - loss: 0.2437 - accuracy: 0.9260 - val_loss: 0.3532 - val_accuracy: 0.8949\n",
      "Epoch 16/100\n",
      "125/125 [==============================] - 31s 251ms/step - loss: 0.2333 - accuracy: 0.9299 - val_loss: 0.3505 - val_accuracy: 0.8955\n",
      "Epoch 17/100\n",
      "125/125 [==============================] - 32s 258ms/step - loss: 0.2238 - accuracy: 0.9322 - val_loss: 0.3513 - val_accuracy: 0.8958\n",
      "Epoch 18/100\n",
      "125/125 [==============================] - 31s 245ms/step - loss: 0.2154 - accuracy: 0.9349 - val_loss: 0.3470 - val_accuracy: 0.8982\n",
      "Epoch 19/100\n",
      "125/125 [==============================] - 32s 258ms/step - loss: 0.2069 - accuracy: 0.9378 - val_loss: 0.3477 - val_accuracy: 0.8981\n",
      "Epoch 20/100\n",
      "125/125 [==============================] - 34s 273ms/step - loss: 0.2008 - accuracy: 0.9393 - val_loss: 0.3484 - val_accuracy: 0.8990\n",
      "Epoch 21/100\n",
      "125/125 [==============================] - 34s 272ms/step - loss: 0.1931 - accuracy: 0.9418 - val_loss: 0.3472 - val_accuracy: 0.8995\n",
      "Epoch 22/100\n",
      "125/125 [==============================] - 36s 287ms/step - loss: 0.1866 - accuracy: 0.9436 - val_loss: 0.3476 - val_accuracy: 0.8995\n",
      "Epoch 23/100\n",
      "125/125 [==============================] - 39s 310ms/step - loss: 0.1798 - accuracy: 0.9457 - val_loss: 0.3503 - val_accuracy: 0.9002\n",
      "Epoch 24/100\n",
      "125/125 [==============================] - 37s 299ms/step - loss: 0.1722 - accuracy: 0.9482 - val_loss: 0.3524 - val_accuracy: 0.8999\n",
      "Epoch 25/100\n",
      "125/125 [==============================] - 40s 319ms/step - loss: 0.1674 - accuracy: 0.9498 - val_loss: 0.3553 - val_accuracy: 0.8998\n",
      "Epoch 26/100\n",
      "125/125 [==============================] - 32s 256ms/step - loss: 0.1597 - accuracy: 0.9519 - val_loss: 0.3561 - val_accuracy: 0.9009\n",
      "Epoch 27/100\n",
      "125/125 [==============================] - 29s 233ms/step - loss: 0.1533 - accuracy: 0.9536 - val_loss: 0.3579 - val_accuracy: 0.9006\n",
      "Epoch 28/100\n",
      "125/125 [==============================] - 28s 226ms/step - loss: 0.1487 - accuracy: 0.9556 - val_loss: 0.3624 - val_accuracy: 0.9009\n",
      "Epoch 29/100\n",
      "125/125 [==============================] - 29s 230ms/step - loss: 0.1424 - accuracy: 0.9571 - val_loss: 0.3649 - val_accuracy: 0.9004\n",
      "Epoch 30/100\n",
      "125/125 [==============================] - 28s 227ms/step - loss: 0.1375 - accuracy: 0.9586 - val_loss: 0.3669 - val_accuracy: 0.9010\n",
      "Epoch 31/100\n",
      "125/125 [==============================] - 28s 227ms/step - loss: 0.1334 - accuracy: 0.9598 - val_loss: 0.3757 - val_accuracy: 0.8994\n",
      "Epoch 32/100\n",
      "125/125 [==============================] - 25s 203ms/step - loss: 0.1269 - accuracy: 0.9621 - val_loss: 0.3741 - val_accuracy: 0.9006\n",
      "Epoch 33/100\n",
      "125/125 [==============================] - 24s 194ms/step - loss: 0.1229 - accuracy: 0.9629 - val_loss: 0.3817 - val_accuracy: 0.9001\n",
      "Epoch 34/100\n",
      "125/125 [==============================] - 26s 210ms/step - loss: 0.1192 - accuracy: 0.9642 - val_loss: 0.3859 - val_accuracy: 0.8998\n",
      "Epoch 35/100\n",
      "125/125 [==============================] - 28s 224ms/step - loss: 0.1134 - accuracy: 0.9658 - val_loss: 0.3898 - val_accuracy: 0.8992\n",
      "Epoch 36/100\n",
      "125/125 [==============================] - 29s 229ms/step - loss: 0.1098 - accuracy: 0.9669 - val_loss: 0.3925 - val_accuracy: 0.8991\n",
      "Epoch 37/100\n",
      "125/125 [==============================] - 28s 221ms/step - loss: 0.1051 - accuracy: 0.9683 - val_loss: 0.4044 - val_accuracy: 0.8981\n",
      "Epoch 38/100\n",
      "125/125 [==============================] - 26s 207ms/step - loss: 0.1025 - accuracy: 0.9691 - val_loss: 0.4052 - val_accuracy: 0.8994\n",
      "Epoch 39/100\n",
      "125/125 [==============================] - 26s 209ms/step - loss: 0.0992 - accuracy: 0.9703 - val_loss: 0.4117 - val_accuracy: 0.8990\n",
      "Epoch 40/100\n",
      "125/125 [==============================] - 29s 231ms/step - loss: 0.0943 - accuracy: 0.9720 - val_loss: 0.4164 - val_accuracy: 0.8989\n",
      "Epoch 41/100\n",
      "125/125 [==============================] - 30s 240ms/step - loss: 0.0915 - accuracy: 0.9728 - val_loss: 0.4213 - val_accuracy: 0.8987\n",
      "Epoch 42/100\n",
      "125/125 [==============================] - 29s 235ms/step - loss: 0.0876 - accuracy: 0.9737 - val_loss: 0.4258 - val_accuracy: 0.8988\n",
      "Epoch 43/100\n",
      "125/125 [==============================] - 29s 235ms/step - loss: 0.0852 - accuracy: 0.9741 - val_loss: 0.4339 - val_accuracy: 0.8983\n",
      "Epoch 44/100\n",
      "125/125 [==============================] - 29s 229ms/step - loss: 0.0821 - accuracy: 0.9757 - val_loss: 0.4406 - val_accuracy: 0.8977\n",
      "Epoch 45/100\n",
      "125/125 [==============================] - 27s 220ms/step - loss: 0.0787 - accuracy: 0.9764 - val_loss: 0.4428 - val_accuracy: 0.8979\n",
      "Epoch 46/100\n",
      "125/125 [==============================] - 26s 211ms/step - loss: 0.0753 - accuracy: 0.9776 - val_loss: 0.4498 - val_accuracy: 0.8977\n",
      "Epoch 47/100\n",
      "125/125 [==============================] - 27s 220ms/step - loss: 0.0737 - accuracy: 0.9782 - val_loss: 0.4537 - val_accuracy: 0.8984\n",
      "Epoch 48/100\n",
      "125/125 [==============================] - 27s 214ms/step - loss: 0.0717 - accuracy: 0.9790 - val_loss: 0.4600 - val_accuracy: 0.8981\n",
      "Epoch 49/100\n",
      "125/125 [==============================] - 27s 219ms/step - loss: 0.0690 - accuracy: 0.9792 - val_loss: 0.4632 - val_accuracy: 0.8971\n",
      "Epoch 50/100\n",
      "125/125 [==============================] - 26s 211ms/step - loss: 0.0664 - accuracy: 0.9802 - val_loss: 0.4721 - val_accuracy: 0.8967\n",
      "Epoch 51/100\n",
      "125/125 [==============================] - 28s 225ms/step - loss: 0.0646 - accuracy: 0.9806 - val_loss: 0.4762 - val_accuracy: 0.8973\n",
      "Epoch 52/100\n",
      "125/125 [==============================] - 31s 245ms/step - loss: 0.0629 - accuracy: 0.9813 - val_loss: 0.4810 - val_accuracy: 0.8972\n",
      "Epoch 53/100\n",
      "125/125 [==============================] - 30s 237ms/step - loss: 0.0597 - accuracy: 0.9825 - val_loss: 0.4904 - val_accuracy: 0.8964\n",
      "Epoch 54/100\n",
      "125/125 [==============================] - 30s 238ms/step - loss: 0.0579 - accuracy: 0.9828 - val_loss: 0.4971 - val_accuracy: 0.8964\n",
      "Epoch 55/100\n",
      "125/125 [==============================] - 27s 217ms/step - loss: 0.0561 - accuracy: 0.9831 - val_loss: 0.4979 - val_accuracy: 0.8969\n",
      "Epoch 56/100\n",
      "125/125 [==============================] - 25s 204ms/step - loss: 0.0548 - accuracy: 0.9839 - val_loss: 0.5019 - val_accuracy: 0.8963\n"
     ]
    },
    {
     "name": "stdout",
     "output_type": "stream",
     "text": [
      "Epoch 57/100\n",
      "125/125 [==============================] - 25s 199ms/step - loss: 0.0530 - accuracy: 0.9844 - val_loss: 0.5098 - val_accuracy: 0.8960\n",
      "Epoch 58/100\n",
      "125/125 [==============================] - 24s 196ms/step - loss: 0.0519 - accuracy: 0.9844 - val_loss: 0.5168 - val_accuracy: 0.8964\n",
      "Epoch 59/100\n",
      "125/125 [==============================] - 26s 208ms/step - loss: 0.0498 - accuracy: 0.9851 - val_loss: 0.5174 - val_accuracy: 0.8969\n",
      "Epoch 60/100\n",
      "125/125 [==============================] - 25s 203ms/step - loss: 0.0481 - accuracy: 0.9855 - val_loss: 0.5229 - val_accuracy: 0.8961\n",
      "Epoch 61/100\n",
      "125/125 [==============================] - 25s 197ms/step - loss: 0.0470 - accuracy: 0.9859 - val_loss: 0.5291 - val_accuracy: 0.8965\n",
      "Epoch 62/100\n",
      "125/125 [==============================] - 25s 200ms/step - loss: 0.0456 - accuracy: 0.9863 - val_loss: 0.5318 - val_accuracy: 0.8964\n",
      "Epoch 63/100\n",
      "125/125 [==============================] - 26s 204ms/step - loss: 0.0441 - accuracy: 0.9871 - val_loss: 0.5382 - val_accuracy: 0.8961\n",
      "Epoch 64/100\n",
      "125/125 [==============================] - 24s 196ms/step - loss: 0.0430 - accuracy: 0.9871 - val_loss: 0.5428 - val_accuracy: 0.8962\n",
      "Epoch 65/100\n",
      "125/125 [==============================] - 25s 202ms/step - loss: 0.0421 - accuracy: 0.9875 - val_loss: 0.5463 - val_accuracy: 0.8961\n",
      "Epoch 66/100\n",
      "125/125 [==============================] - 24s 195ms/step - loss: 0.0410 - accuracy: 0.9875 - val_loss: 0.5474 - val_accuracy: 0.8966\n",
      "Epoch 67/100\n",
      "125/125 [==============================] - 25s 202ms/step - loss: 0.0396 - accuracy: 0.9881 - val_loss: 0.5545 - val_accuracy: 0.8964\n",
      "Epoch 68/100\n",
      "125/125 [==============================] - 25s 201ms/step - loss: 0.0391 - accuracy: 0.9882 - val_loss: 0.5620 - val_accuracy: 0.8955\n",
      "Epoch 69/100\n",
      "125/125 [==============================] - 25s 196ms/step - loss: 0.0381 - accuracy: 0.9886 - val_loss: 0.5615 - val_accuracy: 0.8968\n",
      "Epoch 70/100\n",
      "125/125 [==============================] - 24s 196ms/step - loss: 0.0373 - accuracy: 0.9889 - val_loss: 0.5706 - val_accuracy: 0.8961\n",
      "Epoch 71/100\n",
      "125/125 [==============================] - 26s 208ms/step - loss: 0.0358 - accuracy: 0.9893 - val_loss: 0.5685 - val_accuracy: 0.8966\n",
      "Epoch 72/100\n",
      "125/125 [==============================] - 26s 205ms/step - loss: 0.0354 - accuracy: 0.9893 - val_loss: 0.5777 - val_accuracy: 0.8953\n",
      "Epoch 73/100\n",
      "125/125 [==============================] - 25s 201ms/step - loss: 0.0345 - accuracy: 0.9895 - val_loss: 0.5816 - val_accuracy: 0.8958\n",
      "Epoch 74/100\n",
      "125/125 [==============================] - 25s 199ms/step - loss: 0.0334 - accuracy: 0.9902 - val_loss: 0.5889 - val_accuracy: 0.8955\n",
      "Epoch 75/100\n",
      "125/125 [==============================] - 25s 202ms/step - loss: 0.0327 - accuracy: 0.9902 - val_loss: 0.5894 - val_accuracy: 0.8961\n",
      "Epoch 76/100\n",
      "125/125 [==============================] - 24s 190ms/step - loss: 0.0321 - accuracy: 0.9905 - val_loss: 0.5902 - val_accuracy: 0.8958\n",
      "Epoch 77/100\n",
      "125/125 [==============================] - 24s 193ms/step - loss: 0.0318 - accuracy: 0.9902 - val_loss: 0.5945 - val_accuracy: 0.8955\n",
      "Epoch 78/100\n",
      "125/125 [==============================] - 25s 200ms/step - loss: 0.0311 - accuracy: 0.9907 - val_loss: 0.5997 - val_accuracy: 0.8961\n",
      "Epoch 79/100\n",
      "125/125 [==============================] - 24s 193ms/step - loss: 0.0308 - accuracy: 0.9908 - val_loss: 0.6016 - val_accuracy: 0.8961\n",
      "Epoch 80/100\n",
      "125/125 [==============================] - 24s 196ms/step - loss: 0.0300 - accuracy: 0.9908 - val_loss: 0.6063 - val_accuracy: 0.8955\n",
      "Epoch 81/100\n",
      "125/125 [==============================] - 24s 196ms/step - loss: 0.0293 - accuracy: 0.9910 - val_loss: 0.6091 - val_accuracy: 0.8953\n",
      "Epoch 82/100\n",
      "125/125 [==============================] - 25s 197ms/step - loss: 0.0291 - accuracy: 0.9910 - val_loss: 0.6120 - val_accuracy: 0.8949\n",
      "Epoch 83/100\n",
      "125/125 [==============================] - 25s 198ms/step - loss: 0.0282 - accuracy: 0.9914 - val_loss: 0.6117 - val_accuracy: 0.8958\n",
      "Epoch 84/100\n",
      "125/125 [==============================] - 25s 200ms/step - loss: 0.0283 - accuracy: 0.9912 - val_loss: 0.6174 - val_accuracy: 0.8963\n",
      "Epoch 85/100\n",
      "125/125 [==============================] - 25s 197ms/step - loss: 0.0275 - accuracy: 0.9915 - val_loss: 0.6228 - val_accuracy: 0.8959\n",
      "Epoch 86/100\n",
      "125/125 [==============================] - 24s 195ms/step - loss: 0.0268 - accuracy: 0.9919 - val_loss: 0.6195 - val_accuracy: 0.8961\n",
      "Epoch 87/100\n",
      "125/125 [==============================] - 26s 206ms/step - loss: 0.0263 - accuracy: 0.9919 - val_loss: 0.6260 - val_accuracy: 0.8950\n",
      "Epoch 88/100\n",
      "125/125 [==============================] - 25s 201ms/step - loss: 0.0263 - accuracy: 0.9919 - val_loss: 0.6241 - val_accuracy: 0.8957\n",
      "Epoch 89/100\n",
      "125/125 [==============================] - 32s 256ms/step - loss: 0.0260 - accuracy: 0.9920 - val_loss: 0.6299 - val_accuracy: 0.8957\n",
      "Epoch 90/100\n",
      "125/125 [==============================] - 33s 264ms/step - loss: 0.0254 - accuracy: 0.9922 - val_loss: 0.6336 - val_accuracy: 0.8950\n",
      "Epoch 91/100\n",
      "125/125 [==============================] - 30s 239ms/step - loss: 0.0251 - accuracy: 0.9922 - val_loss: 0.6354 - val_accuracy: 0.8958\n",
      "Epoch 92/100\n",
      "125/125 [==============================] - 28s 227ms/step - loss: 0.0245 - accuracy: 0.9923 - val_loss: 0.6417 - val_accuracy: 0.8954\n",
      "Epoch 93/100\n",
      "125/125 [==============================] - 26s 212ms/step - loss: 0.0241 - accuracy: 0.9925 - val_loss: 0.6437 - val_accuracy: 0.8950\n",
      "Epoch 94/100\n",
      "125/125 [==============================] - 28s 226ms/step - loss: 0.0240 - accuracy: 0.9925 - val_loss: 0.6470 - val_accuracy: 0.8942\n",
      "Epoch 95/100\n",
      "125/125 [==============================] - 28s 225ms/step - loss: 0.0233 - accuracy: 0.9927 - val_loss: 0.6449 - val_accuracy: 0.8949\n",
      "Epoch 96/100\n",
      "125/125 [==============================] - 28s 222ms/step - loss: 0.0234 - accuracy: 0.9926 - val_loss: 0.6476 - val_accuracy: 0.8954\n",
      "Epoch 97/100\n",
      "125/125 [==============================] - 26s 211ms/step - loss: 0.0230 - accuracy: 0.9926 - val_loss: 0.6475 - val_accuracy: 0.8957\n",
      "Epoch 98/100\n",
      "125/125 [==============================] - 29s 229ms/step - loss: 0.0229 - accuracy: 0.9928 - val_loss: 0.6533 - val_accuracy: 0.8954\n",
      "Epoch 99/100\n",
      "125/125 [==============================] - 25s 202ms/step - loss: 0.0226 - accuracy: 0.9928 - val_loss: 0.6548 - val_accuracy: 0.8957\n",
      "Epoch 100/100\n",
      "125/125 [==============================] - 25s 202ms/step - loss: 0.0222 - accuracy: 0.9930 - val_loss: 0.6535 - val_accuracy: 0.8961\n"
     ]
    },
    {
     "name": "stderr",
     "output_type": "stream",
     "text": [
      "WARNING:absl:Found untraced functions such as lstm_cell_layer_call_and_return_conditional_losses, lstm_cell_layer_call_fn, lstm_cell_1_layer_call_and_return_conditional_losses, lstm_cell_1_layer_call_fn, lstm_cell_layer_call_fn while saving (showing 5 of 10). These functions will not be directly callable after loading.\n",
      "WARNING:absl:Found untraced functions such as lstm_cell_layer_call_and_return_conditional_losses, lstm_cell_layer_call_fn, lstm_cell_1_layer_call_and_return_conditional_losses, lstm_cell_1_layer_call_fn, lstm_cell_layer_call_fn while saving (showing 5 of 10). These functions will not be directly callable after loading.\n"
     ]
    },
    {
     "name": "stdout",
     "output_type": "stream",
     "text": [
      "INFO:tensorflow:Assets written to: s2s-esp/assets\n"
     ]
    },
    {
     "name": "stderr",
     "output_type": "stream",
     "text": [
      "INFO:tensorflow:Assets written to: s2s-esp/assets\n"
     ]
    }
   ],
   "source": [
    "model.fit(\n",
    "    [encoder_input_data, decoder_input_data],\n",
    "    decoder_target_data,\n",
    "    batch_size=batch_size,\n",
    "    epochs=epochs,\n",
    "    validation_split=0.2,\n",
    ")\n",
    "# Save model\n",
    "model.save(\"s2s-esp\")\n"
   ]
  },
  {
   "cell_type": "markdown",
   "id": "focal-equality",
   "metadata": {
    "slideshow": {
     "slide_type": "slide"
    }
   },
   "source": [
    "## Prediction"
   ]
  },
  {
   "cell_type": "code",
   "execution_count": 14,
   "id": "other-speaker",
   "metadata": {
    "ExecuteTime": {
     "end_time": "2021-05-03T23:44:50.596338Z",
     "start_time": "2021-05-03T23:44:46.635699Z"
    },
    "slideshow": {
     "slide_type": "subslide"
    }
   },
   "outputs": [],
   "source": [
    "# Define sampling models\n",
    "# Restore the model and construct the encoder and decoder.\n",
    "model = keras.models.load_model(\"s2s-esp\")\n",
    "\n",
    "encoder_inputs = model.input[0]  # input_1\n",
    "encoder_outputs, state_h_enc, state_c_enc = model.layers[2].output  # lstm_1\n",
    "encoder_states = [state_h_enc, state_c_enc]\n",
    "encoder_model = keras.Model(encoder_inputs, encoder_states)"
   ]
  },
  {
   "cell_type": "code",
   "execution_count": 15,
   "id": "published-melbourne",
   "metadata": {
    "ExecuteTime": {
     "end_time": "2021-05-03T23:44:50.603911Z",
     "start_time": "2021-05-03T23:44:50.598024Z"
    },
    "slideshow": {
     "slide_type": "subslide"
    }
   },
   "outputs": [],
   "source": [
    "decoder_inputs = model.input[1]  # input_2\n",
    "decoder_state_input_h = keras.Input(shape=(latent_dim,), name=\"input_3\")\n",
    "decoder_state_input_c = keras.Input(shape=(latent_dim,), name=\"input_4\")\n",
    "decoder_states_inputs = [decoder_state_input_h, decoder_state_input_c]\n",
    "decoder_lstm = model.layers[3]"
   ]
  },
  {
   "cell_type": "code",
   "execution_count": 16,
   "id": "capable-cheese",
   "metadata": {
    "ExecuteTime": {
     "end_time": "2021-05-03T23:44:50.787250Z",
     "start_time": "2021-05-03T23:44:50.606089Z"
    },
    "slideshow": {
     "slide_type": "subslide"
    }
   },
   "outputs": [],
   "source": [
    "# We keep the states of decoder LSTM for inference\n",
    "decoder_outputs, state_h_dec, state_c_dec = decoder_lstm(\n",
    "    decoder_inputs, initial_state=decoder_states_inputs\n",
    ")\n",
    "\n",
    "decoder_states = [state_h_dec, state_c_dec]"
   ]
  },
  {
   "cell_type": "code",
   "execution_count": 17,
   "id": "dangerous-construction",
   "metadata": {
    "ExecuteTime": {
     "end_time": "2021-05-03T23:44:50.812258Z",
     "start_time": "2021-05-03T23:44:50.789505Z"
    },
    "slideshow": {
     "slide_type": "subslide"
    }
   },
   "outputs": [],
   "source": [
    "decoder_dense = model.layers[4]\n",
    "decoder_outputs = decoder_dense(decoder_outputs)\n",
    "decoder_model = keras.Model(\n",
    "    [decoder_inputs] + decoder_states_inputs, [decoder_outputs] + decoder_states\n",
    ")"
   ]
  },
  {
   "cell_type": "code",
   "execution_count": 18,
   "id": "hollywood-series",
   "metadata": {
    "ExecuteTime": {
     "end_time": "2021-05-03T23:44:50.821924Z",
     "start_time": "2021-05-03T23:44:50.814357Z"
    },
    "slideshow": {
     "slide_type": "subslide"
    }
   },
   "outputs": [],
   "source": [
    "# Reverse-lookup token index to decode sequences back to\n",
    "# something readable.\n",
    "reverse_input_char_index = dict((i, char) for char, i in input_token_index.items())\n",
    "reverse_target_char_index = dict((i, char) for char, i in target_token_index.items())\n",
    "\n",
    "\n",
    "def decode_sequence(input_seq):\n",
    "    # Encode the input as state vectors.\n",
    "    states_value = encoder_model.predict(input_seq)\n",
    "\n",
    "    # Generate empty target sequence of length 1.\n",
    "    target_seq = np.zeros((1, 1, num_decoder_tokens))\n",
    "    # Populate the first character of target sequence with the start character.\n",
    "    target_seq[0, 0, target_token_index[\"\\t\"]] = 1.0\n",
    "  \n",
    "    # Sampling loop for a batch of sequences\n",
    "    # (to simplify, here we assume a batch of size 1).\n",
    "    stop_condition = False\n",
    "    decoded_sentence = \"\"\n",
    "    while not stop_condition:\n",
    "        output_tokens, h, c = decoder_model.predict([target_seq] + states_value)\n",
    "\n",
    "        # Sample a token\n",
    "        sampled_token_index = np.argmax(output_tokens[0, -1, :])\n",
    "        sampled_char = reverse_target_char_index[sampled_token_index]\n",
    "        decoded_sentence += sampled_char\n",
    "\n",
    "        # Exit condition: either hit max length\n",
    "        # or find stop character.\n",
    "        if sampled_char == \"\\n\" or len(decoded_sentence) > max_decoder_seq_length:\n",
    "            stop_condition = True\n",
    "\n",
    "        # Update the target sequence (of length 1).\n",
    "        target_seq = np.zeros((1, 1, num_decoder_tokens))\n",
    "        target_seq[0, 0, sampled_token_index] = 1.0\n",
    "\n",
    "        # Update states\n",
    "        states_value = [h, c]\n",
    "    return decoded_sentence\n"
   ]
  },
  {
   "cell_type": "code",
   "execution_count": 33,
   "id": "residential-sample",
   "metadata": {
    "ExecuteTime": {
     "end_time": "2021-05-03T23:52:09.164968Z",
     "start_time": "2021-05-03T23:52:09.159908Z"
    },
    "slideshow": {
     "slide_type": "skip"
    }
   },
   "outputs": [],
   "source": [
    "_, unique_strings = np.unique(input_texts, return_index=True)"
   ]
  },
  {
   "cell_type": "code",
   "execution_count": 34,
   "id": "portable-siemens",
   "metadata": {
    "ExecuteTime": {
     "end_time": "2021-05-03T23:52:53.224839Z",
     "start_time": "2021-05-03T23:52:19.619357Z"
    },
    "slideshow": {
     "slide_type": "subslide"
    }
   },
   "outputs": [
    {
     "name": "stdout",
     "output_type": "stream",
     "text": [
      "-\n",
      "Input sentence: A bird can fly.\n",
      "Decoded sentence: Un pájaro puede volar.\n",
      "\n",
      "-\n",
      "Input sentence: A boat capsized.\n",
      "Decoded sentence: Un te polecimo.\n",
      "\n",
      "-\n",
      "Input sentence: A car hit Tom.\n",
      "Decoded sentence: Un auto atropelló a Tomás.\n",
      "\n",
      "-\n",
      "Input sentence: A coke, please.\n",
      "Decoded sentence: Una Coca-Cola por favor.\n",
      "\n",
      "-\n",
      "Input sentence: A fish can swim.\n",
      "Decoded sentence: Parece erepeda aquí.\n",
      "\n",
      "-\n",
      "Input sentence: A man must work.\n",
      "Decoded sentence: Tono escadó.\n",
      "\n",
      "-\n",
      "Input sentence: Abandon ship!\n",
      "Decoded sentence: ¡Abandonen la nave!\n",
      "\n",
      "-\n",
      "Input sentence: About what time?\n",
      "Decoded sentence: ¿Apuedo Tom?\n",
      "\n",
      "-\n",
      "Input sentence: Act like a man.\n",
      "Decoded sentence: Actuá como un hombre.\n",
      "\n",
      "-\n",
      "Input sentence: Act your age.\n",
      "Decoded sentence: Actúa acorde a tu edad.\n",
      "\n",
      "-\n",
      "Input sentence: Add more water.\n",
      "Decoded sentence: Añade más agua.\n",
      "\n",
      "-\n",
      "Input sentence: After you.\n",
      "Decoded sentence: Después de usted.\n",
      "\n",
      "-\n",
      "Input sentence: Aim higher.\n",
      "Decoded sentence: Más alto.\n",
      "\n",
      "-\n",
      "Input sentence: Aim. Fire!\n",
      "Decoded sentence: Apunta. ¡Fuego!\n",
      "\n",
      "-\n",
      "Input sentence: Ain't she cute?\n",
      "Decoded sentence: ¿Acaso no es linda?\n",
      "\n",
      "-\n",
      "Input sentence: All aboard!\n",
      "Decoded sentence: ¡Todos a bordo!\n",
      "\n",
      "-\n",
      "Input sentence: All are present.\n",
      "Decoded sentence: Tod es profido.\n",
      "\n",
      "-\n",
      "Input sentence: All is quiet.\n",
      "Decoded sentence: Todo está en calma.\n",
      "\n",
      "-\n",
      "Input sentence: All is still.\n",
      "Decoded sentence: Todo está en calma.\n",
      "\n",
      "-\n",
      "Input sentence: All is well.\n",
      "Decoded sentence: Todo está correcto.\n",
      "\n",
      "-\n",
      "Input sentence: All were silent.\n",
      "Decoded sentence: Todo está correzco.\n",
      "\n",
      "-\n",
      "Input sentence: Am I alone here?\n",
      "Decoded sentence: ¿Soy ayuda?\n",
      "\n",
      "-\n",
      "Input sentence: Am I approved?\n",
      "Decoded sentence: ¿Yo aprobé?\n",
      "\n",
      "-\n",
      "Input sentence: Am I boring you?\n",
      "Decoded sentence: ¿Ton tengo cala?\n",
      "\n",
      "-\n",
      "Input sentence: Am I dreaming?\n",
      "Decoded sentence: ¿Estoy soñando?\n",
      "\n",
      "-\n",
      "Input sentence: Am I fat?\n",
      "Decoded sentence: ¿Estoy gorda?\n",
      "\n",
      "-\n",
      "Input sentence: Am I in trouble?\n",
      "Decoded sentence: ¿Ton tengo la aña?\n",
      "\n",
      "-\n",
      "Input sentence: Am I included?\n",
      "Decoded sentence: ¿Yo estoy incluido?\n",
      "\n",
      "-\n",
      "Input sentence: Am I invited?\n",
      "Decoded sentence: ¿Estoy invitado?\n",
      "\n",
      "-\n",
      "Input sentence: Am I mistaken?\n",
      "Decoded sentence: ¿Estoy equivocada?\n",
      "\n",
      "-\n",
      "Input sentence: Am I not right?\n",
      "Decoded sentence: ¿No tengo razón?\n",
      "\n",
      "-\n",
      "Input sentence: Am I qualified?\n",
      "Decoded sentence: ¿Estoy celfadada?\n",
      "\n",
      "-\n",
      "Input sentence: Am I right?\n",
      "Decoded sentence: ¿Tengo razón?\n",
      "\n",
      "-\n",
      "Input sentence: Am I safe here?\n",
      "Decoded sentence: ¿Aquí esto eso?\n",
      "\n",
      "-\n",
      "Input sentence: Am I safe now?\n",
      "Decoded sentence: ¿Estoy segura aquí?\n",
      "\n",
      "-\n",
      "Input sentence: Am I talented?\n",
      "Decoded sentence: ¿Soy talentoso?\n",
      "\n",
      "-\n",
      "Input sentence: Am I wrong?\n",
      "Decoded sentence: ¿Me equivoco?\n",
      "\n",
      "-\n",
      "Input sentence: Answer Tom.\n",
      "Decoded sentence: ¡Respondele a Tomás!\n",
      "\n",
      "-\n",
      "Input sentence: Answer me.\n",
      "Decoded sentence: Respondedme.\n",
      "\n",
      "-\n",
      "Input sentence: Anybody home?\n",
      "Decoded sentence: ¿Hay alguien en casa?\n",
      "\n",
      "-\n",
      "Input sentence: Anybody hurt?\n",
      "Decoded sentence: ¿Alguien está herido?\n",
      "\n",
      "-\n",
      "Input sentence: Anybody in here?\n",
      "Decoded sentence: ¿Hay alguien esto?\n",
      "\n",
      "-\n",
      "Input sentence: Anybody will do.\n",
      "Decoded sentence: Nas cago biene.\n",
      "\n",
      "-\n",
      "Input sentence: Anyone home?\n",
      "Decoded sentence: ¿Alguien está en casa?\n",
      "\n",
      "-\n",
      "Input sentence: Anyone hurt?\n",
      "Decoded sentence: ¿Alguien está herido?\n",
      "\n",
      "-\n",
      "Input sentence: Anything new?\n",
      "Decoded sentence: ¿Nada nuevo?\n",
      "\n",
      "-\n",
      "Input sentence: Apples are red.\n",
      "Decoded sentence: Las manzanas son rojas.\n",
      "\n",
      "-\n",
      "Input sentence: Are these yours?\n",
      "Decoded sentence: ¿Están ellos aquí?\n",
      "\n",
      "-\n",
      "Input sentence: Are they busy?\n",
      "Decoded sentence: ¿Están ocupados?\n",
      "\n",
      "-\n",
      "Input sentence: Are they cops?\n",
      "Decoded sentence: ¿Son polos?\n",
      "\n"
     ]
    }
   ],
   "source": [
    "for seq_index in unique_strings[:50]:\n",
    "    # Take one sequence (part of the training set)\n",
    "    # for trying out decoding.\n",
    "    input_seq = encoder_input_data[seq_index : seq_index + 1]\n",
    "    decoded_sentence = decode_sequence(input_seq)\n",
    "    print(\"-\")\n",
    "    print(\"Input sentence:\", input_texts[seq_index])\n",
    "    print(\"Decoded sentence:\", decoded_sentence)"
   ]
  }
 ],
 "metadata": {
  "celltoolbar": "Slideshow",
  "kernelspec": {
   "display_name": "Python 3",
   "language": "python",
   "name": "python3"
  },
  "language_info": {
   "codemirror_mode": {
    "name": "ipython",
    "version": 3
   },
   "file_extension": ".py",
   "mimetype": "text/x-python",
   "name": "python",
   "nbconvert_exporter": "python",
   "pygments_lexer": "ipython3",
   "version": "3.7.10"
  }
 },
 "nbformat": 4,
 "nbformat_minor": 5
}
