{
 "cells": [
  {
   "cell_type": "code",
   "execution_count": 1,
   "id": "2eb30c4d-d1b6-4377-ad02-10795a7410b9",
   "metadata": {
    "slideshow": {
     "slide_type": "skip"
    },
    "tags": []
   },
   "outputs": [
    {
     "name": "stderr",
     "output_type": "stream",
     "text": [
      "── \u001b[1mAttaching packages\u001b[22m ───────────────────── tidyverse 1.3.0 ──\n",
      "\n",
      "\u001b[32m✔\u001b[39m \u001b[34mggplot2\u001b[39m 3.3.3     \u001b[32m✔\u001b[39m \u001b[34mpurrr  \u001b[39m 0.3.4\n",
      "\u001b[32m✔\u001b[39m \u001b[34mtibble \u001b[39m 3.0.3     \u001b[32m✔\u001b[39m \u001b[34mdplyr  \u001b[39m 1.0.0\n",
      "\u001b[32m✔\u001b[39m \u001b[34mtidyr  \u001b[39m 1.1.0     \u001b[32m✔\u001b[39m \u001b[34mstringr\u001b[39m 1.4.0\n",
      "\u001b[32m✔\u001b[39m \u001b[34mreadr  \u001b[39m 1.4.0     \u001b[32m✔\u001b[39m \u001b[34mforcats\u001b[39m 0.5.0\n",
      "\n",
      "── \u001b[1mConflicts\u001b[22m ──────────────────────── tidyverse_conflicts() ──\n",
      "\u001b[31m✖\u001b[39m \u001b[34mdplyr\u001b[39m::\u001b[32mfilter()\u001b[39m masks \u001b[34mstats\u001b[39m::filter()\n",
      "\u001b[31m✖\u001b[39m \u001b[34mdplyr\u001b[39m::\u001b[32mlag()\u001b[39m    masks \u001b[34mstats\u001b[39m::lag()\n",
      "\n",
      "Package version: 3.0.0\n",
      "Unicode version: 10.0\n",
      "ICU version: 61.1\n",
      "\n",
      "Parallel computing: 16 of 16 threads used.\n",
      "\n",
      "See https://quanteda.io for tutorials and examples.\n",
      "\n"
     ]
    }
   ],
   "source": [
    "## Packages\n",
    "library(tidyverse)\n",
    "# install.packages(\"wordVectors\")\n",
    "# library(wordVectors)\n",
    "# install.packages(\"text2vec\")\n",
    "library(text2vec)\n",
    "library(ggplot2)\n",
    "# install.packages(\"quanteda\")\n",
    "library(quanteda)"
   ]
  },
  {
   "cell_type": "markdown",
   "id": "c0b5119e-c9cd-46e3-9c34-06b0a3d5a76c",
   "metadata": {
    "slideshow": {
     "slide_type": "slide"
    },
    "tags": []
   },
   "source": [
    "# Presentación GloVe\n",
    "- Fernanda Rubio\n",
    "- Roberto Pérez \n",
    "- Víctor Rivera"
   ]
  },
  {
   "cell_type": "markdown",
   "id": "84c2a541-a81e-48c2-bff6-7f77e0a02521",
   "metadata": {
    "heading_collapsed": "true",
    "slideshow": {
     "slide_type": "slide"
    },
    "tags": []
   },
   "source": [
    "## Introducción"
   ]
  },
  {
   "cell_type": "markdown",
   "id": "ba8684dd-605e-4f30-8198-cce51f81c75c",
   "metadata": {
    "slideshow": {
     "slide_type": "subslide"
    },
    "tags": []
   },
   "source": [
    "Existen dos familias de algoritmos para \"aprender\" vectores de palabras"
   ]
  },
  {
   "cell_type": "markdown",
   "id": "e31af198-7f23-488f-ab12-1942851c87eb",
   "metadata": {
    "slideshow": {
     "slide_type": "fragment"
    },
    "tags": []
   },
   "source": [
    "- *Global Matrix Factorization* como LSA  ➡️  Aprovechan información estadística"
   ]
  },
  {
   "cell_type": "markdown",
   "id": "5b71a7a2-6ca1-4ded-b8d9-28801114983b",
   "metadata": {
    "slideshow": {
     "slide_type": "fragment"
    },
    "tags": []
   },
   "source": [
    "- *Local Context Widow* como skip-gram  ➡️  buen desempeño encontrando analogías de palabras"
   ]
  },
  {
   "cell_type": "markdown",
   "id": "59d55705-5032-4994-a534-2014a705f991",
   "metadata": {
    "slideshow": {
     "slide_type": "fragment"
    },
    "tags": []
   },
   "source": [
    "   "
   ]
  },
  {
   "cell_type": "markdown",
   "id": "de540c68-c5b1-412d-acba-01f2b018dd70",
   "metadata": {
    "slideshow": {
     "slide_type": "fragment"
    },
    "tags": []
   },
   "source": [
    "GloVe combina las ventajas de las 2 familias de modelos   "
   ]
  },
  {
   "cell_type": "markdown",
   "id": "db0a7552-ead0-49a0-b3f1-8fcbac918867",
   "metadata": {
    "slideshow": {
     "slide_type": "slide"
    },
    "tags": []
   },
   "source": [
    "## GloVe"
   ]
  },
  {
   "cell_type": "markdown",
   "id": "86d3b371-e8d9-4284-acd0-793b4d7f31c3",
   "metadata": {
    "slideshow": {
     "slide_type": "slide"
    },
    "tags": []
   },
   "source": [
    "## Ejemplo aplicado"
   ]
  },
  {
   "cell_type": "markdown",
   "id": "ad6cb852-07e1-4482-be48-6231116881a3",
   "metadata": {
    "slideshow": {
     "slide_type": "subslide"
    },
    "tags": []
   },
   "source": [
    "Cargamos una muestra de artículos de Wikipedia:"
   ]
  },
  {
   "cell_type": "code",
   "execution_count": 2,
   "id": "cada6197-c48a-46cf-bb22-06cffe4ec45a",
   "metadata": {
    "slideshow": {
     "slide_type": "fragment"
    },
    "tags": []
   },
   "outputs": [],
   "source": [
    "wiki_corp <- quanteda.corpora::download(\n",
    "    url = \"https://www.dropbox.com/s/9mubqwpgls3qi9t/data_corpus_wiki.rds?dl=1\"\n",
    ")"
   ]
  },
  {
   "cell_type": "markdown",
   "id": "2ea725f6-834c-4a02-983e-262d62ed8649",
   "metadata": {
    "slideshow": {
     "slide_type": "subslide"
    },
    "tags": []
   },
   "source": [
    "Creación de vocabulario del que se aprenderán los vectores de palabras:"
   ]
  },
  {
   "cell_type": "markdown",
   "id": "c83b02fe-f123-4cd9-8012-12cd36855d84",
   "metadata": {
    "slideshow": {
     "slide_type": "fragment"
    },
    "tags": []
   },
   "source": [
    "1: Tokenizar el corpus:"
   ]
  },
  {
   "cell_type": "code",
   "execution_count": 5,
   "id": "19c42079-8af7-467a-8d8a-8ce8930d633b",
   "metadata": {
    "tags": []
   },
   "outputs": [
    {
     "data": {
      "text/plain": [
       "Tokens consisting of 1 document and 1 docvar.\n",
       "text1 :\n",
       " [1] \"anarchism\"  \"originated\" \"as\"         \"a\"          \"term\"      \n",
       " [6] \"of\"         \"abuse\"      \"first\"      \"used\"       \"against\"   \n",
       "[11] \"early\"      \"working\"   \n",
       "[ ... and 17,005,195 more ]\n"
      ]
     },
     "metadata": {},
     "output_type": "display_data"
    }
   ],
   "source": [
    "wiki_toks <- tokens(wiki_corp)\n",
    "wiki_toks"
   ]
  },
  {
   "cell_type": "markdown",
   "id": "55cfcf5c-9137-4296-8ff9-b11027d32689",
   "metadata": {
    "slideshow": {
     "slide_type": "fragment"
    },
    "tags": []
   },
   "source": [
    "2: Extración de los features que suceden 5 veces o más:"
   ]
  },
  {
   "cell_type": "code",
   "execution_count": 7,
   "id": "60e7c5df-1555-4851-92ce-59254cd07259",
   "metadata": {
    "tags": []
   },
   "outputs": [
    {
     "name": "stderr",
     "output_type": "stream",
     "text": [
      "Creating a dfm from a tokens input...\n",
      "\n",
      " ...lowercasing\n",
      "\n",
      " ...found 1 document, 253,854 features\n",
      "\n",
      " ...complete, elapsed time: 1.3 seconds.\n",
      "\n",
      "Finished constructing a 1 x 253,854 sparse dfm.\n",
      "\n"
     ]
    }
   ],
   "source": [
    "feats <- dfm(wiki_toks, verbose = TRUE) %>%\n",
    "    dfm_trim(min_termfreq = 5) %>%\n",
    "    featnames()\n",
    "\n",
    "wiki_toks <- tokens_select(wiki_toks, feats, padding = TRUE)"
   ]
  },
  {
   "cell_type": "markdown",
   "id": "b27cf47d-de3b-4fae-a15c-780f900e7adf",
   "metadata": {
    "slideshow": {
     "slide_type": "subslide"
    },
    "tags": []
   },
   "source": [
    "Contrucción de la matriz de concurrencia:"
   ]
  },
  {
   "cell_type": "code",
   "execution_count": 8,
   "id": "de8595b1-635e-43bd-9889-88ac18e4c00c",
   "metadata": {
    "slideshow": {
     "slide_type": "fragment"
    },
    "tags": []
   },
   "outputs": [
    {
     "data": {
      "text/plain": [
       "Feature co-occurrence matrix of: 71,290 by 71,290 features.\n",
       "            features\n",
       "features     anarchism originated          as           a        term\n",
       "  anarchism       29.3          1    28.23333    30.95000    2.166667\n",
       "  originated       0            0    65.68333    47.78333   18.116667\n",
       "  as               0            0 10508.90000 27202.56667  316.183333\n",
       "  a                0            0     0       18019.26667 1145.700000\n",
       "  term             0            0     0           0         60.733333\n",
       "  of               0            0     0           0          0       \n",
       "  abuse            0            0     0           0          0       \n",
       "  first            0            0     0           0          0       \n",
       "  used             0            0     0           0          0       \n",
       "  against          0            0     0           0          0       \n",
       "            features\n",
       "features              of      abuse       first        used     against\n",
       "  anarchism     73.56667   0           0.500000    0.250000   0.2500000\n",
       "  originated    55.65000   0.200000    6.450000    0.450000   0.6666667\n",
       "  as         14655.83333  27.133333  822.683333 2425.216667 206.9166667\n",
       "  a          61917.88333  34.250000 1460.383333 1983.616667 813.8000000\n",
       "  term         855.95000   6.533333  106.166667  499.300000   8.8333333\n",
       "  of         42443.66667 221.400000 4402.000000 1429.800000 820.5666667\n",
       "  abuse          0         4.533333    1.733333    1.816667   7.8666667\n",
       "  first          0         0         212.466667  250.733333  44.2666667\n",
       "  used           0         0           0          54.166667  78.1333333\n",
       "  against        0         0           0           0         42.4000000\n",
       "[ reached max_feat ... 71,280 more features, reached max_nfeat ... 71,280 more features ]"
      ]
     },
     "metadata": {},
     "output_type": "display_data"
    }
   ],
   "source": [
    "wiki_fcm <- fcm(wiki_toks, context = \"window\", count = \"weighted\", weights = 1 / (1:5), tri = TRUE)\n",
    "wiki_fcm"
   ]
  },
  {
   "cell_type": "markdown",
   "id": "bf1db55a-80a4-4a50-bdaa-33a6edd2ef5b",
   "metadata": {
    "slideshow": {
     "slide_type": "subslide"
    },
    "tags": []
   },
   "source": [
    "### Modelo GloVe"
   ]
  },
  {
   "cell_type": "markdown",
   "id": "27b698c0-488c-4c30-97c6-3584fcc4a256",
   "metadata": {
    "slideshow": {
     "slide_type": "subslide"
    },
    "tags": []
   },
   "source": [
    "Entrenamiento del modelo"
   ]
  },
  {
   "cell_type": "code",
   "execution_count": 9,
   "id": "1cd5d634-d19c-4fb6-a6ae-094767807716",
   "metadata": {
    "slideshow": {
     "slide_type": "fragment"
    },
    "tags": []
   },
   "outputs": [
    {
     "name": "stdout",
     "output_type": "stream",
     "text": [
      "INFO  [19:37:05.057] epoch 1, loss 0.1618 \n",
      "INFO  [19:37:24.649] epoch 2, loss 0.1233 \n",
      "INFO  [19:37:44.160] epoch 3, loss 0.1073 \n",
      "INFO  [19:38:03.865] epoch 4, loss 0.0992 \n",
      "INFO  [19:38:23.756] epoch 5, loss 0.0942 \n",
      "INFO  [19:38:43.684] epoch 6, loss 0.0908 \n",
      "INFO  [19:39:07.081] epoch 7, loss 0.0882 \n",
      "INFO  [19:39:42.393] epoch 8, loss 0.0861 \n",
      "INFO  [19:40:15.271] epoch 9, loss 0.0844 \n",
      "INFO  [19:40:43.506] epoch 10, loss 0.0831 \n"
     ]
    }
   ],
   "source": [
    "glove <- GlobalVectors$new(rank = 50, x_max = 10)\n",
    "wv_main <- glove$fit_transform(wiki_fcm, n_iter = 10,\n",
    "                               convergence_tol = 0.01, n_threads = 8)"
   ]
  },
  {
   "cell_type": "markdown",
   "id": "20e128cb-b6ff-4b09-8f37-552da20e47ac",
   "metadata": {
    "slideshow": {
     "slide_type": "subslide"
    },
    "tags": []
   },
   "source": [
    "Suma de palabras con el contexto para mejorar la precisión:"
   ]
  },
  {
   "cell_type": "code",
   "execution_count": 10,
   "id": "7c6c216c-5b37-4485-aa3b-bbb6f5ff3359",
   "metadata": {
    "slideshow": {
     "slide_type": "fragment"
    },
    "tags": []
   },
   "outputs": [],
   "source": [
    "wv_context <- glove$components\n",
    "word_vectors <- wv_main + t(wv_context)"
   ]
  },
  {
   "cell_type": "markdown",
   "id": "92524a42-5dcd-486c-91df-b36b878d2c31",
   "metadata": {
    "slideshow": {
     "slide_type": "subslide"
    },
    "tags": []
   },
   "source": [
    "### Entrenar word2vec"
   ]
  },
  {
   "cell_type": "code",
   "execution_count": 11,
   "id": "92089e16-7051-4f89-bacc-bd83c849399c",
   "metadata": {},
   "outputs": [
    {
     "ename": "ERROR",
     "evalue": "Error: Problem with `mutate()` input `txt`.\n\u001b[31m✖\u001b[39m argumento de tipo no-carácter\n\u001b[34mℹ\u001b[39m Input `txt` is `normalizar(txt)`.\n",
     "output_type": "error",
     "traceback": [
      "Error: Problem with `mutate()` input `txt`.\n\u001b[31m✖\u001b[39m argumento de tipo no-carácter\n\u001b[34mℹ\u001b[39m Input `txt` is `normalizar(txt)`.\nTraceback:\n",
      "1. tibble(txt = wiki_corp) %>% mutate(id = row_number()) %>% mutate(txt = normalizar(txt))",
      "2. mutate(., txt = normalizar(txt))",
      "3. mutate.data.frame(., txt = normalizar(txt))",
      "4. mutate_cols(.data, ...)",
      "5. tryCatch({\n .     for (i in seq_along(dots)) {\n .         not_named <- (is.null(dots_names) || dots_names[i] == \n .             \"\")\n .         chunks <- NULL\n .         result <- NULL\n .         if (quo_is_symbol(dots[[i]])) {\n .             name <- as_string(quo_get_expr(dots[[i]]))\n .             if (name %in% names(new_columns)) {\n .                 result <- new_columns[[name]]\n .                 chunks <- mask$get_resolved(name)\n .             }\n .             else if (name %in% names(.data)) {\n .                 result <- .data[[name]]\n .                 chunks <- mask$resolve(name)\n .             }\n .             if (inherits(.data, \"rowwise_df\") && vec_is_list(result)) {\n .                 sizes <- list_sizes(result)\n .                 wrong <- which(sizes != 1)\n .                 if (length(wrong)) {\n .                   group <- wrong[1L]\n .                   mask$set_current_group(group)\n .                   stop_mutate_recycle_incompatible_size(sizes[group])\n .                 }\n .             }\n .         }\n .         if (is.null(chunks)) {\n .             chunks <- mask$eval_all_mutate(dots[[i]])\n .         }\n .         mask$across_cache_reset()\n .         if (is.null(chunks)) {\n .             if (!is.null(dots_names) && dots_names[i] != \"\") {\n .                 new_columns[[dots_names[i]]] <- zap()\n .                 suppressWarnings(mask$remove(dots_names[i]))\n .             }\n .             next\n .         }\n .         if (is.null(result)) {\n .             result <- tryCatch(vec_unchop(chunks, rows), vctrs_error_incompatible_type = function(cnd) {\n .                 abort(class = \"dplyr:::error_mutate_incompatible_combine\", \n .                   parent = cnd)\n .             })\n .         }\n .         if (not_named && is.data.frame(result)) {\n .             new_columns[names(result)] <- result\n .             map2(seq_along(result), names(result), function(i, \n .                 nm) {\n .                 mask$add(nm, pluck(chunks, i))\n .             })\n .         }\n .         else {\n .             name <- if (not_named) \n .                 auto_named_dots[i]\n .             else dots_names[i]\n .             new_columns[[name]] <- result\n .             mask$add(name, chunks)\n .         }\n .     }\n . }, error = function(e) {\n .     if (inherits(e, \"rlang_error_data_pronoun_not_found\")) {\n .         stop_error_data_pronoun_not_found(conditionMessage(e), \n .             index = i, dots = dots, fn = \"mutate\")\n .     }\n .     else if (inherits(e, \"dplyr:::mutate_incompatible_size\")) {\n .         e$size <- vec_size(rows[[i]])\n .         stop_mutate_recycle_incompatible_size(e, index = i, dots = dots)\n .     }\n .     else if (inherits(e, \"dplyr:::mutate_mixed_null\")) {\n .         stop_mutate_mixed_null(index = i, dots = dots)\n .     }\n .     else if (inherits(e, \"dplyr:::mutate_not_vector\")) {\n .         stop_mutate_not_vector(index = i, dots = dots, result = e$result)\n .     }\n .     else if (inherits(e, \"dplyr:::error_mutate_incompatible_combine\")) {\n .         stop_combine(e$parent, index = i, dots = dots, fn = \"mutate\")\n .     }\n .     else {\n .         stop_dplyr(i, dots, fn = \"mutate\", problem = conditionMessage(e), \n .             parent = e)\n .     }\n . })",
      "6. tryCatchList(expr, classes, parentenv, handlers)",
      "7. tryCatchOne(expr, names, parentenv, handlers[[1L]])",
      "8. value[[3L]](cond)",
      "9. stop_dplyr(i, dots, fn = \"mutate\", problem = conditionMessage(e), \n .     parent = e)",
      "10. abort(bullets, class = \"dplyr_error\", error_name = error_name, \n  .     error_expression = error_expression, index = .index, dots = dots, \n  .     fn = fn, parent = parent)",
      "11. signal_abort(cnd)"
     ]
    }
   ],
   "source": [
    "normalizar <- function(texto, vocab = NULL){\n",
    "  # minúsculas\n",
    "  texto <- tolower(texto)\n",
    "  # varios ajustes\n",
    "  texto <- gsub(\"\\\\s+\", \" \", texto)\n",
    "  texto <- gsub(\"\\\\.[^0-9]\", \" _punto_ \", texto)\n",
    "  texto <- gsub(\" _s_ $\", \"\", texto)\n",
    "  texto <- gsub(\"\\\\.\", \" _punto_ \", texto)\n",
    "  texto <- gsub(\"[«»¡!¿?-]\", \"\", texto) \n",
    "  texto <- gsub(\";\", \" _punto_coma_ \", texto) \n",
    "  texto <- gsub(\"\\\\:\", \" _dos_puntos_ \", texto) \n",
    "  texto <- gsub(\"\\\\,[^0-9]\", \" _coma_ \", texto)\n",
    "  texto <- gsub(\"\\\\s+\", \" \", texto)\n",
    "  texto\n",
    "}\n",
    "wiki_df <- tibble(txt = wiki_corp) %>%\n",
    "                mutate(id = row_number()) %>%\n",
    "                mutate(txt = normalizar(txt))\n",
    "\n",
    "if(!file.exists('./salidas/wiki_w2v.txt')){\n",
    "  tmp <- tempfile()\n",
    "  # tokenización\n",
    "  write_lines(wiki_df$txt,  tmp)\n",
    "  prep <- prep_word2vec(tmp, \n",
    "          destination = './salidas/wiki_w2v.txt', bundle_ngrams = 2)\n",
    "} \n",
    "\n",
    "if (!file.exists(\"./salidas/wiki_vectors.bin\")) {\n",
    "  model_w2v <- train_word2vec(\"./salidas/wiki_w2v.txt\", \n",
    "          \"./salidas/wiki_vectors.bin\",\n",
    "          vectors = 100, threads = 4, window = 5, cbow = 0,  \n",
    "          iter = 5, negative_samples = 20, min_count = 5) \n",
    "} else {\n",
    "  model_w2v <- read.vectors(\"./salidas/wiki_vectors.bin\")\n",
    "}"
   ]
  },
  {
   "cell_type": "markdown",
   "id": "e1537eb9-8f10-4223-b92e-6b2e5b981b61",
   "metadata": {
    "slideshow": {
     "slide_type": "slide"
    },
    "tags": []
   },
   "source": [
    "## Fin"
   ]
  }
 ],
 "metadata": {
  "kernelspec": {
   "display_name": "R",
   "language": "R",
   "name": "ir"
  },
  "language_info": {
   "codemirror_mode": "r",
   "file_extension": ".r",
   "mimetype": "text/x-r-source",
   "name": "R",
   "pygments_lexer": "r",
   "version": "4.0.2"
  },
  "toc-autonumbering": true,
  "toc-showmarkdowntxt": false
 },
 "nbformat": 4,
 "nbformat_minor": 5
}
